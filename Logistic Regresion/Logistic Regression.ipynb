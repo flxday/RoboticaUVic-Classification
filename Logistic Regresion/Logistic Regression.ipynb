{
 "metadata": {
  "name": ""
 },
 "nbformat": 3,
 "nbformat_minor": 0,
 "worksheets": [
  {
   "cells": [
    {
     "cell_type": "code",
     "collapsed": false,
     "input": [
      "#Q2 First we will focus on a two-class problem. \n",
      "#Use slicing to get a new training and testing set that only contains the instances corresponding to shirt and jeans (remember to also create new label variables!). \n",
      "#Then, train a Logistic Regression classifier, adjusting the C parameter with cross-validation. This time you can chose to use the cross-validation functions provided by sklearn. \n",
      "#Plot the training and validation accuracy as C is incresed, and print the test accuracy for the selected model."
     ],
     "language": "python",
     "metadata": {},
     "outputs": [],
     "prompt_number": 13
    },
    {
     "cell_type": "code",
     "collapsed": false,
     "input": [
      "import numpy as np\n",
      "import math\n",
      "from sklearn.linear_model import LogisticRegression\n",
      "from sklearn.svm import LinearSVC, SVC\n",
      "import pylab as pl"
     ],
     "language": "python",
     "metadata": {},
     "outputs": [],
     "prompt_number": 1
    },
    {
     "cell_type": "code",
     "collapsed": false,
     "input": [
      "#Datos test y train\n",
      "train_data =np.load (\"3dclothing/3dclothing_train.npy\")\n",
      "test_data =np.load (\"3dclothing/3dclothing_test.npy\")\n",
      "#Matriz\n",
      "train_labels = np.array([x.strip() for x in open('3dclothing/3dclothing_labels_train.txt')])\n",
      "test_labels = np.array([x.strip() for x in open('3dclothing/3dclothing_labels_test.txt')])\n"
     ],
     "language": "python",
     "metadata": {},
     "outputs": [],
     "prompt_number": 2
    },
    {
     "cell_type": "code",
     "collapsed": false,
     "input": [
      "#Datos de test\n",
      "shirt_test=test_data[(test_labels == 'shirt') + (test_labels == 'polo shirt'),:]\n",
      "shirt_lab_test = test_labels[(test_labels == 'shirt') + (test_labels == 'polo shirt')]\n",
      "#Datos de lebels\n",
      "shirt_train=train_data[(train_labels == 'shirt') + (train_labels == 'polo shirt'),:]\n",
      "shirt_lab_train = train_labels[(train_labels == 'shirt') + (train_labels == 'polo shirt')]\n"
     ],
     "language": "python",
     "metadata": {},
     "outputs": [],
     "prompt_number": 3
    },
    {
     "cell_type": "code",
     "collapsed": false,
     "input": [
      "# Logistic Regression\n",
      "# Primero creamos un objeto clasificador, con C = 1\n",
      "LogReg = LogisticRegression(C=1)\n",
      "#Luego entrenarlo con los datos de entrenamiento\n",
      "LogReg.fit(shirt_train, shirt_lab_train)\n",
      "# Y, finalmente, utilizar la funci\u00f3n de puntuaci\u00f3n para obtener la precisi\u00f3n\n",
      "print 'Log Reg accuracy', LogReg.score(shirt_test, shirt_lab_test)\n"
     ],
     "language": "python",
     "metadata": {},
     "outputs": [
      {
       "output_type": "stream",
       "stream": "stdout",
       "text": [
        "Log Reg accuracy 0.811111111111\n"
       ]
      }
     ],
     "prompt_number": 17
    },
    {
     "cell_type": "code",
     "collapsed": false,
     "input": [
      "# Si C = 1 el mejor par\u00e1metro de regularizaci\u00f3n\n",
      "# validaci\u00f3n cruzada de b\u00fasqueda + rejilla\n",
      "# Sklearn:\n",
      "from sklearn.grid_search import GridSearchCV\n",
      "# Definimos el espacio de b\u00fasqueda para el par\u00e1metro Cwe define la busqueda del parametro C\n",
      "parameters = {'C':[10**i for i in range(-7,7)]}\n",
      "# Y crear un objeto de b\u00fasqueda cuadr\u00edcula con el tipo de clasificador\n",
      "# Uso y los par\u00e1metros\n",
      "clf = GridSearchCV(LogisticRegression(), parameters, verbose=False)\n",
      "# Clasificador con rejilla de b\u00fasqueda con el mejor parametro\n",
      "clf.fit(shirt_train, shirt_lab_train)\n",
      "print 'Log Reg with Grid search', clf.score(shirt_test, shirt_lab_test), 'with C =', clf.best_params_['C']"
     ],
     "language": "python",
     "metadata": {},
     "outputs": [
      {
       "output_type": "stream",
       "stream": "stdout",
       "text": [
        "Log Reg with Grid search 0.822222222222 with C = 0.0001\n"
       ]
      }
     ],
     "prompt_number": 18
    },
    {
     "cell_type": "code",
     "collapsed": false,
     "input": [
      "#Definicion datos\n",
      "#Let your C search range be from 10^-7 to 10^7.\n",
      "#Hint: use log-scale for the C value in the plot. Hint: \n",
      "#Since we do not have a lot of training data, use 15 folds to ensure the train set will be large enough.\n",
      "\n",
      "D = [1,2,3,4,5,6,7,8,9,10,11,12,13,14,15]\n",
      "A = [1,2,3,4,5,6,7,8,9,10,11,12,13,14,15]\n",
      "P = 0\n",
      "\n",
      "for i in xrange (-7,7):    \n",
      "\tLogReg = LogisticRegression(C=10**i)\n",
      "\tD[P]=i\n",
      "\tLogReg.fit(shirt_train, shirt_lab_train)\n",
      "\tA[P] = LogReg.score(shirt_test, shirt_lab_test)\n",
      "\tprint 'Log Reg accuracy', A[P]\n",
      "\tP+=1\n",
      "#Plot\n",
      "pl.plot(D[:14],A[:14])\n",
      "\n",
      "pl.show()"
     ],
     "language": "python",
     "metadata": {},
     "outputs": [
      {
       "output_type": "stream",
       "stream": "stdout",
       "text": [
        "Log Reg accuracy 0.566666666667\n",
        "Log Reg accuracy 0.766666666667\n",
        "Log Reg accuracy 0.8\n",
        "Log Reg accuracy 0.822222222222\n",
        "Log Reg accuracy"
       ]
      },
      {
       "output_type": "stream",
       "stream": "stdout",
       "text": [
        " 0.811111111111\n",
        "Log Reg accuracy"
       ]
      },
      {
       "output_type": "stream",
       "stream": "stdout",
       "text": [
        " 0.811111111111\n",
        "Log Reg accuracy"
       ]
      },
      {
       "output_type": "stream",
       "stream": "stdout",
       "text": [
        " 0.8\n",
        "Log Reg accuracy"
       ]
      },
      {
       "output_type": "stream",
       "stream": "stdout",
       "text": [
        " 0.811111111111\n",
        "Log Reg accuracy"
       ]
      },
      {
       "output_type": "stream",
       "stream": "stdout",
       "text": [
        " 0.811111111111\n",
        "Log Reg accuracy"
       ]
      },
      {
       "output_type": "stream",
       "stream": "stdout",
       "text": [
        " 0.811111111111\n",
        "Log Reg accuracy"
       ]
      },
      {
       "output_type": "stream",
       "stream": "stdout",
       "text": [
        " 0.811111111111\n",
        "Log Reg accuracy"
       ]
      },
      {
       "output_type": "stream",
       "stream": "stdout",
       "text": [
        " 0.8\n",
        "Log Reg accuracy"
       ]
      },
      {
       "output_type": "stream",
       "stream": "stdout",
       "text": [
        " 0.811111111111\n",
        "Log Reg accuracy"
       ]
      },
      {
       "output_type": "stream",
       "stream": "stdout",
       "text": [
        " 0.8\n"
       ]
      }
     ],
     "prompt_number": 19
    },
    {
     "cell_type": "code",
     "collapsed": false,
     "input": [
      "#Q3 Now, train a multi-class Logistic Regression classifier with the complete training set. \n",
      "#Again, plot the training and validation accuracy as C increases, and print the final test accuracy. \n",
      "\n",
      "D = [1,2,3,4,5,6]\n",
      "A = [1,2,3,4,5,6]\n",
      "P = 0\n",
      "\n",
      "for i in xrange (-3,3):    \n",
      "\tLogReg = LogisticRegression(C=10**i)\n",
      "\tD[P]=i\n",
      "\tLogReg.fit(shirt_train, shirt_lab_train)\n",
      "\tA[P] = LogReg.score(shirt_test, shirt_lab_test)\n",
      "\tprint 'Log Reg accuracy', A[P]\n",
      "\tP+=1\n",
      "#Plot\n",
      "pl.plot(D[:5],A[:5])\n",
      "\n",
      "pl.show()"
     ],
     "language": "python",
     "metadata": {},
     "outputs": [
      {
       "output_type": "stream",
       "stream": "stdout",
       "text": [
        "Log Reg accuracy 0.811111111111\n",
        "Log Reg accuracy"
       ]
      },
      {
       "output_type": "stream",
       "stream": "stdout",
       "text": [
        " 0.811111111111\n",
        "Log Reg accuracy"
       ]
      },
      {
       "output_type": "stream",
       "stream": "stdout",
       "text": [
        " 0.8\n",
        "Log Reg accuracy"
       ]
      },
      {
       "output_type": "stream",
       "stream": "stdout",
       "text": [
        " 0.811111111111\n",
        "Log Reg accuracy"
       ]
      },
      {
       "output_type": "stream",
       "stream": "stdout",
       "text": [
        " 0.811111111111\n",
        "Log Reg accuracy"
       ]
      },
      {
       "output_type": "stream",
       "stream": "stdout",
       "text": [
        " 0.811111111111\n"
       ]
      }
     ],
     "prompt_number": 20
    },
    {
     "cell_type": "code",
     "collapsed": false,
     "input": [
      "# Q4 Sometimes we want to re-use a trained classified in another system, or with another programming language. \n",
      "# Other times we just want to save it to disk for later usage. \n",
      "# Given a trained linear classifier object, explain what information should we be saving in order to be able to do so. \n",
      "# Next, inspect the \"shirts vs jeans\" logistic regression classifier object we have trained in Question 2 \n",
      "# (re-train it if necessary) and identify which variables contain said information. \n",
      "# Finally, write the code necessary to use these variables to classify new test samples. \n",
      "\n",
      "#Matriz\n",
      "#Datos de test\n",
      "jeans_test=test_data[(test_labels == 'shirt') + (test_labels == 'jeans'),:]\n",
      "jeans_lab_test = test_labels[(test_labels == 'shirt') + (test_labels == 'jeans')]\n",
      "#Datos de lebels\n",
      "jeans_train=train_data[(train_labels == 'shirt') + (train_labels == 'jeans'),:]\n",
      "jeans_lab_train = train_labels[(train_labels == 'shirt') + (train_labels == 'jeans')]\n",
      "\n",
      "for i in xrange (-7,7):    \n",
      "\tLogReg = LogisticRegression(C=10**i)\n",
      "\tLogReg.fit(jeans_train, jeans_lab_train)\n",
      "\ta = LogReg.score(jeans_test, jeans_lab_test)\n",
      "\tbias = LogReg.intercept_\n",
      "\ttheta = LogReg.coef_\n",
      "\tacc = 1/(1+(np.exp(-np.dot(jeans_test, theta.T)-bias)))\n",
      "print 'Nuevas muestras', acc"
     ],
     "language": "python",
     "metadata": {},
     "outputs": [
      {
       "output_type": "stream",
       "stream": "stdout",
       "text": [
        "Nuevas muestras [[  1.00000000e+00]\n",
        " [  1.00000000e+00]\n",
        " [  6.82423139e-07]\n",
        " [  1.00000000e+00]\n",
        " [  4.54905846e-03]\n",
        " [  1.11375468e-10]\n",
        " [  1.30915416e-12]\n",
        " [  9.99861043e-01]\n",
        " [  1.00000000e+00]\n",
        " [  5.58219732e-04]\n",
        " [  1.00000000e+00]\n",
        " [  1.00000000e+00]\n",
        " [  9.99947855e-01]\n",
        " [  9.99999940e-01]\n",
        " [  1.00000000e+00]\n",
        " [  1.55420307e-06]\n",
        " [  4.19117259e-06]\n",
        " [  1.00000000e+00]\n",
        " [  1.00000000e+00]\n",
        " [  1.00000000e+00]\n",
        " [  1.00000000e+00]\n",
        " [  3.76222210e-06]\n",
        " [  3.43973745e-09]\n",
        " [  1.00000000e+00]\n",
        " [  1.00000000e+00]\n",
        " [  1.00000000e+00]\n",
        " [  4.02938878e-10]\n",
        " [  9.99990910e-01]\n",
        " [  9.63382643e-01]\n",
        " [  4.62029867e-01]\n",
        " [  4.10908964e-02]\n",
        " [  9.99999993e-01]\n",
        " [  1.00000000e+00]\n",
        " [  2.82504711e-02]\n",
        " [  9.65365327e-01]\n",
        " [  1.00000000e+00]\n",
        " [  3.36898686e-01]\n",
        " [  1.00000000e+00]\n",
        " [  1.00000000e+00]\n",
        " [  1.00000000e+00]\n",
        " [  2.31079566e-11]\n",
        " [  1.00000000e+00]\n",
        " [  2.80292849e-11]\n",
        " [  5.93789081e-03]\n",
        " [  1.00000000e+00]\n",
        " [  9.74106977e-01]\n",
        " [  5.57011132e-23]\n",
        " [  7.52228939e-02]\n",
        " [  9.99999998e-01]\n",
        " [  1.92587234e-10]\n",
        " [  9.95916986e-01]\n",
        " [  1.00000000e+00]\n",
        " [  3.55232286e-12]\n",
        " [  9.19113537e-01]\n",
        " [  8.32063107e-09]\n",
        " [  1.00000000e+00]\n",
        " [  9.99999882e-01]\n",
        " [  1.00000000e+00]\n",
        " [  7.55196785e-14]\n",
        " [  9.99999983e-01]\n",
        " [  1.10819847e-01]\n",
        " [  1.00000000e+00]\n",
        " [  2.13089468e-03]\n",
        " [  9.99991504e-01]\n",
        " [  1.00000000e+00]\n",
        " [  1.00000000e+00]\n",
        " [  1.00000000e+00]\n",
        " [  7.70175968e-05]\n",
        " [  9.99999989e-01]\n",
        " [  1.00000000e+00]\n",
        " [  9.99963758e-01]\n",
        " [  9.99990028e-01]\n",
        " [  1.00000000e+00]\n",
        " [  5.10732145e-03]\n",
        " [  1.00000000e+00]\n",
        " [  9.99980523e-01]\n",
        " [  1.00000000e+00]]\n"
       ]
      }
     ],
     "prompt_number": 23
    },
    {
     "cell_type": "code",
     "collapsed": false,
     "input": [
      "#accuracy RBF SVM\n",
      "for i in xrange (-7,7):    \n",
      "\tLogReg = LogisticRegression(C=10**i)\n",
      "\tLogReg.fit(shirt_train, shirt_lab_train)\n",
      "\tA = LogReg.score(shirt_test, shirt_lab_test)\n",
      "\tprint 'Log Reg accuracy', A\n",
      "\tclf = SVC(C=10**i)\n",
      "\tclf.fit(train_data, train_labels)\n",
      "print 'RBF SVM accuracy', clf.score(test_data, test_labels)"
     ],
     "language": "python",
     "metadata": {},
     "outputs": [
      {
       "output_type": "stream",
       "stream": "stdout",
       "text": [
        "Log Reg accuracy 0.566666666667\n",
        "Log Reg accuracy"
       ]
      },
      {
       "output_type": "stream",
       "stream": "stdout",
       "text": [
        " 0.766666666667\n",
        "Log Reg accuracy"
       ]
      },
      {
       "output_type": "stream",
       "stream": "stdout",
       "text": [
        " 0.8\n",
        "Log Reg accuracy"
       ]
      },
      {
       "output_type": "stream",
       "stream": "stdout",
       "text": [
        " 0.822222222222\n",
        "Log Reg accuracy"
       ]
      },
      {
       "output_type": "stream",
       "stream": "stdout",
       "text": [
        " 0.811111111111\n",
        "Log Reg accuracy"
       ]
      },
      {
       "output_type": "stream",
       "stream": "stdout",
       "text": [
        " 0.811111111111\n",
        "Log Reg accuracy"
       ]
      },
      {
       "output_type": "stream",
       "stream": "stdout",
       "text": [
        " 0.8\n",
        "Log Reg accuracy"
       ]
      },
      {
       "output_type": "stream",
       "stream": "stdout",
       "text": [
        " 0.811111111111\n",
        "Log Reg accuracy"
       ]
      },
      {
       "output_type": "stream",
       "stream": "stdout",
       "text": [
        " 0.811111111111\n",
        "Log Reg accuracy"
       ]
      },
      {
       "output_type": "stream",
       "stream": "stdout",
       "text": [
        " 0.811111111111\n",
        "Log Reg accuracy"
       ]
      },
      {
       "output_type": "stream",
       "stream": "stdout",
       "text": [
        " 0.811111111111\n",
        "Log Reg accuracy"
       ]
      },
      {
       "output_type": "stream",
       "stream": "stdout",
       "text": [
        " 0.8\n",
        "Log Reg accuracy"
       ]
      },
      {
       "output_type": "stream",
       "stream": "stdout",
       "text": [
        " 0.811111111111\n",
        "Log Reg accuracy"
       ]
      },
      {
       "output_type": "stream",
       "stream": "stdout",
       "text": [
        " 0.8\n",
        "RBF SVM accuracy"
       ]
      },
      {
       "output_type": "stream",
       "stream": "stdout",
       "text": [
        " 0.227053140097\n"
       ]
      }
     ],
     "prompt_number": 22
    },
    {
     "cell_type": "code",
     "collapsed": false,
     "input": [],
     "language": "python",
     "metadata": {},
     "outputs": []
    }
   ],
   "metadata": {}
  }
 ]
}