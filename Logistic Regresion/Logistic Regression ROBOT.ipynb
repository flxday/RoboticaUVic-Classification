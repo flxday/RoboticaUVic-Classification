{
 "metadata": {
  "name": ""
 },
 "nbformat": 3,
 "nbformat_minor": 0,
 "worksheets": [
  {
   "cells": [
    {
     "cell_type": "code",
     "collapsed": false,
     "input": [
      "#We have just finished developing the vision system of a robot waiter to work in a bar. Now we have to evaluate it.\n",
      "#Q8 After developing a french fries image logistic regression classifier for our robot waiter, we want to know how good it is. We have run the image classifier in 150.000 images, of which 150 are positives. Load the probability of french fries computed by our classifier and the true labels, and compute:\n",
      "#Accuracy and Error Rate (assume threshold is at 0.5)\n",
      "#Balanced Error Rate (implies computing True Positive Rate, True Negative Rate)\n",
      "#F1-score (implies computing also precision and recall) \n",
      "#Hint: Since we will consider the whole dataset, there is no need to sort the values.\n",
      "#Since being a bit slower is prefearable to our robot attacking a client wearing stripes, we are more concerned about precision than recall. Compute the f-beta score with beta=0.5\n",
      "#Finally, plot the precision-recall curve for our classifier.\n",
      "#Use the function precision_recall_curve found in sklearn.metrics.\n",
      "\n",
      "\n",
      "\n",
      "#Acabamos de terminar de desarrollar el sistema de visi\u00f3n de un robot camarero para trabajar en un bar. Ahora tenemos que evaluarlo.\n",
      "#Q8 Despu\u00e9s de desarrollar un clasificador de regresi\u00f3n log\u00edstica de im\u00e1genes de papas fritas para nuestro camarero robot, queremos saber lo bueno que es. Hemos realizado el clasificador de im\u00e1genes en 150.000 im\u00e1genes, de las cuales 150 son positivas. Cargue la probabilidad de papas fritas calculadas por nuestro clasificador y las etiquetas verdaderas, y calcule:\n",
      "#Precisi\u00f3n y tasa de error (suponga que el umbral est\u00e1 en 0.5)\n",
      "#Tasa de error balanceada (implica calcular la tasa positiva verdadera, la tasa negativa verdadera)\n",
      "#F1-score (implica calcular tambi\u00e9n precisi\u00f3n y memoria)\n",
      "#Sugerencia: Ya que vamos a considerar el conjunto de datos, no hay necesidad de ordenar los valores.\n",
      "#Puesto que ser un poco m\u00e1s lento es prefearable a nuestro robot que ataca a un cliente que usa rayas, estamos m\u00e1s preocupados por la precisi\u00f3n que recordar. Calcule la puntuaci\u00f3n f-beta con beta = 0.5\n",
      "#Por \u00faltimo, trace la curva de recuperaci\u00f3n de precisi\u00f3n para nuestro clasificador.\n",
      "#Utilice la funci\u00f3n precision_recall_curve que se encuentra en sklearn.metrics."
     ],
     "language": "python",
     "metadata": {},
     "outputs": [],
     "prompt_number": 7
    },
    {
     "cell_type": "code",
     "collapsed": false,
     "input": [
      "import numpy as np\n",
      "import math\n",
      "from sklearn.linear_model import LogisticRegression\n",
      "from sklearn.svm import LinearSVC, SVC\n",
      "import pylab as pl"
     ],
     "language": "python",
     "metadata": {},
     "outputs": [],
     "prompt_number": 1
    },
    {
     "cell_type": "code",
     "collapsed": false,
     "input": [
      "#Datos test y train\n",
      "train_data =np.load (\"robot_waiter/robot_waiter_fries_labels.npy\")\n",
      "test_data =np.load (\"robot_waiter/robot_waiter_allclf_labels.npy\")\n",
      "#Matriz\n",
      "train_labels = np.array([x.strip() for x in open('robot_waiter/robot_waiter_classes.txt')])\n",
      "test_labels = np.array([x.strip() for x in open('robot_waiter/robot_waiter_classes.txt')])"
     ],
     "language": "python",
     "metadata": {},
     "outputs": [],
     "prompt_number": 14
    },
    {
     "cell_type": "code",
     "collapsed": false,
     "input": [
      "#Datos de test\n",
      "#fries_test=test_data[(test_labels == 'fries') + (test_labels == 'french friesa'),:]\n",
      "fries_lab_test = test_labels[(test_labels == 'fries') + (test_labels == 'french fries')]\n",
      "#Datos de lebels\n",
      "#fries_train=train_data[(train_labels == 'fries') + (train_labels == 'french fries'),:]\n",
      "fries_lab_train = train_labels[(train_labels == 'fries') + (train_labels == 'french fries')]\n"
     ],
     "language": "python",
     "metadata": {},
     "outputs": [
      {
       "ename": "IndexError",
       "evalue": "too many indices",
       "output_type": "pyerr",
       "traceback": [
        "\u001b[0;31m---------------------------------------------------------------------------\u001b[0m\n\u001b[0;31mIndexError\u001b[0m                                Traceback (most recent call last)",
        "\u001b[0;32m<ipython-input-17-787d5640cc96>\u001b[0m in \u001b[0;36m<module>\u001b[0;34m()\u001b[0m\n\u001b[1;32m      1\u001b[0m \u001b[0;31m#Datos de test\u001b[0m\u001b[0;34m\u001b[0m\u001b[0;34m\u001b[0m\u001b[0m\n\u001b[0;32m----> 2\u001b[0;31m \u001b[0mfries_test\u001b[0m\u001b[0;34m=\u001b[0m\u001b[0mtest_data\u001b[0m\u001b[0;34m[\u001b[0m\u001b[0;34m(\u001b[0m\u001b[0mtest_labels\u001b[0m \u001b[0;34m==\u001b[0m \u001b[0;34m'fries'\u001b[0m\u001b[0;34m)\u001b[0m \u001b[0;34m+\u001b[0m \u001b[0;34m(\u001b[0m\u001b[0mtest_labels\u001b[0m \u001b[0;34m==\u001b[0m \u001b[0;34m'french friesa'\u001b[0m\u001b[0;34m)\u001b[0m\u001b[0;34m,\u001b[0m\u001b[0;34m:\u001b[0m\u001b[0;34m]\u001b[0m\u001b[0;34m\u001b[0m\u001b[0m\n\u001b[0m\u001b[1;32m      3\u001b[0m \u001b[0mfries_lab_test\u001b[0m \u001b[0;34m=\u001b[0m \u001b[0mtest_labels\u001b[0m\u001b[0;34m[\u001b[0m\u001b[0;34m(\u001b[0m\u001b[0mtest_labels\u001b[0m \u001b[0;34m==\u001b[0m \u001b[0;34m'fries'\u001b[0m\u001b[0;34m)\u001b[0m \u001b[0;34m+\u001b[0m \u001b[0;34m(\u001b[0m\u001b[0mtest_labels\u001b[0m \u001b[0;34m==\u001b[0m \u001b[0;34m'french fries'\u001b[0m\u001b[0;34m)\u001b[0m\u001b[0;34m]\u001b[0m\u001b[0;34m\u001b[0m\u001b[0m\n\u001b[1;32m      4\u001b[0m \u001b[0;31m#Datos de lebels\u001b[0m\u001b[0;34m\u001b[0m\u001b[0;34m\u001b[0m\u001b[0m\n\u001b[1;32m      5\u001b[0m \u001b[0mfries_train\u001b[0m\u001b[0;34m=\u001b[0m\u001b[0mtrain_data\u001b[0m\u001b[0;34m[\u001b[0m\u001b[0;34m(\u001b[0m\u001b[0mtrain_labels\u001b[0m \u001b[0;34m==\u001b[0m \u001b[0;34m'fries'\u001b[0m\u001b[0;34m)\u001b[0m \u001b[0;34m+\u001b[0m \u001b[0;34m(\u001b[0m\u001b[0mtrain_labels\u001b[0m \u001b[0;34m==\u001b[0m \u001b[0;34m'french fries'\u001b[0m\u001b[0;34m)\u001b[0m\u001b[0;34m,\u001b[0m\u001b[0;34m:\u001b[0m\u001b[0;34m]\u001b[0m\u001b[0;34m\u001b[0m\u001b[0m\n",
        "\u001b[0;31mIndexError\u001b[0m: too many indices"
       ]
      }
     ],
     "prompt_number": 17
    },
    {
     "cell_type": "code",
     "collapsed": false,
     "input": [
      "# Logistic Regression\n",
      "# Primero creamos un objeto clasificador, con C = 1\n",
      "LogReg = LogisticRegression(C=1)\n",
      "#Luego entrenarlo con los datos de entrenamiento\n",
      "LogReg.fit(fries_train, fries_lab_train)\n",
      "# Y, finalmente, utilizar la funci\u00f3n de puntuaci\u00f3n para obtener la precisi\u00f3n\n",
      "print 'Log Reg accuracy', LogReg.score(fries_test, fries_lab_test)"
     ],
     "language": "python",
     "metadata": {},
     "outputs": [
      {
       "ename": "NameError",
       "evalue": "name 'fries_train' is not defined",
       "output_type": "pyerr",
       "traceback": [
        "\u001b[0;31m---------------------------------------------------------------------------\u001b[0m\n\u001b[0;31mNameError\u001b[0m                                 Traceback (most recent call last)",
        "\u001b[0;32m<ipython-input-13-f331adff2c9a>\u001b[0m in \u001b[0;36m<module>\u001b[0;34m()\u001b[0m\n\u001b[1;32m      3\u001b[0m \u001b[0mLogReg\u001b[0m \u001b[0;34m=\u001b[0m \u001b[0mLogisticRegression\u001b[0m\u001b[0;34m(\u001b[0m\u001b[0mC\u001b[0m\u001b[0;34m=\u001b[0m\u001b[0;36m1\u001b[0m\u001b[0;34m)\u001b[0m\u001b[0;34m\u001b[0m\u001b[0m\n\u001b[1;32m      4\u001b[0m \u001b[0;31m#Luego entrenarlo con los datos de entrenamiento\u001b[0m\u001b[0;34m\u001b[0m\u001b[0;34m\u001b[0m\u001b[0m\n\u001b[0;32m----> 5\u001b[0;31m \u001b[0mLogReg\u001b[0m\u001b[0;34m.\u001b[0m\u001b[0mfit\u001b[0m\u001b[0;34m(\u001b[0m\u001b[0mfries_train\u001b[0m\u001b[0;34m,\u001b[0m \u001b[0mfries_lab_train\u001b[0m\u001b[0;34m)\u001b[0m\u001b[0;34m\u001b[0m\u001b[0m\n\u001b[0m\u001b[1;32m      6\u001b[0m \u001b[0;31m# Y, finalmente, utilizar la funci\u00f3n de puntuaci\u00f3n para obtener la precisi\u00f3n\u001b[0m\u001b[0;34m\u001b[0m\u001b[0;34m\u001b[0m\u001b[0m\n\u001b[1;32m      7\u001b[0m \u001b[0;32mprint\u001b[0m \u001b[0;34m'Log Reg accuracy'\u001b[0m\u001b[0;34m,\u001b[0m \u001b[0mLogReg\u001b[0m\u001b[0;34m.\u001b[0m\u001b[0mscore\u001b[0m\u001b[0;34m(\u001b[0m\u001b[0mfries_test\u001b[0m\u001b[0;34m,\u001b[0m \u001b[0mfries_lab_test\u001b[0m\u001b[0;34m)\u001b[0m\u001b[0;34m\u001b[0m\u001b[0m\n",
        "\u001b[0;31mNameError\u001b[0m: name 'fries_train' is not defined"
       ]
      }
     ],
     "prompt_number": 13
    },
    {
     "cell_type": "code",
     "collapsed": false,
     "input": [],
     "language": "python",
     "metadata": {},
     "outputs": []
    }
   ],
   "metadata": {}
  }
 ]
}